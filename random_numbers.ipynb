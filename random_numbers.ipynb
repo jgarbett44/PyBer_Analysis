{
 "cells": [
  {
   "cell_type": "code",
   "execution_count": 1,
   "id": "ffee7328",
   "metadata": {},
   "outputs": [],
   "source": [
    "# Import the random module.\n",
    "import random"
   ]
  },
  {
   "cell_type": "code",
   "execution_count": 2,
   "id": "e91c4a08",
   "metadata": {},
   "outputs": [
    {
     "data": {
      "text/plain": [
       "0.7760674116852375"
      ]
     },
     "execution_count": 2,
     "metadata": {},
     "output_type": "execute_result"
    }
   ],
   "source": [
    "random.random()"
   ]
  },
  {
   "cell_type": "code",
   "execution_count": 3,
   "id": "9cbc12f8",
   "metadata": {},
   "outputs": [],
   "source": [
    "x = 1\n",
    "latitudes = []\n",
    "while x < 11:\n",
    "    random_lat = random.randint(-90, 89) + random.random()\n",
    "    latitudes.append(random_lat)\n",
    "    x += 1"
   ]
  },
  {
   "cell_type": "code",
   "execution_count": 4,
   "id": "5c24a72d",
   "metadata": {},
   "outputs": [
    {
     "data": {
      "text/plain": [
       "[-4.7845728255717574,\n",
       " -67.06958964926508,\n",
       " -66.4369083920625,\n",
       " 67.86026902616348,\n",
       " -77.54292805616595,\n",
       " -43.62772395432241,\n",
       " 15.493855640611459,\n",
       " -56.88376063782379,\n",
       " 54.81736758704494,\n",
       " 61.67177266921169]"
      ]
     },
     "execution_count": 4,
     "metadata": {},
     "output_type": "execute_result"
    }
   ],
   "source": [
    "latitudes"
   ]
  },
  {
   "cell_type": "code",
   "execution_count": 5,
   "id": "aa3ab3d6",
   "metadata": {},
   "outputs": [],
   "source": [
    "# Import the NumPy module.\n",
    "import numpy as np"
   ]
  },
  {
   "cell_type": "code",
   "execution_count": 6,
   "id": "3deaf9b9",
   "metadata": {},
   "outputs": [
    {
     "data": {
      "text/plain": [
       "81.19017685763262"
      ]
     },
     "execution_count": 6,
     "metadata": {},
     "output_type": "execute_result"
    }
   ],
   "source": [
    "np.random.uniform(-90.000, 90.000)"
   ]
  },
  {
   "cell_type": "code",
   "execution_count": 7,
   "id": "b0981bfa",
   "metadata": {},
   "outputs": [
    {
     "data": {
      "text/plain": [
       "array([ 58.58172404, -70.06197492,  79.79371122, -22.69661977,\n",
       "       -67.75200498, -77.54614328,  76.76455323,  25.61944816,\n",
       "        67.82543006,  68.95001105, -61.74141821,  68.95299862,\n",
       "        62.54777557, -74.17199747, -49.73606371,  22.07570795,\n",
       "       -13.79845146,  56.28522483,   1.83114885,  56.47024151,\n",
       "       -19.04085009,  76.78714265,  20.51783798,  37.97135473,\n",
       "       -18.31739124, -38.66490926, -13.84779982, -84.00906334,\n",
       "       -30.24834907,  56.69795107,  80.08597361, -84.34884229,\n",
       "         0.30770605,  71.80471228, -16.29624782,  71.32214184,\n",
       "       -85.62298298,  -5.83148117, -56.96105959,  82.78801963,\n",
       "       -39.60636454,  -4.61318198,  80.99308735,  65.40967847,\n",
       "         2.74313075, -65.93496577,   6.50798431, -69.64955955,\n",
       "       -45.63875654, -14.90054976])"
      ]
     },
     "execution_count": 7,
     "metadata": {},
     "output_type": "execute_result"
    }
   ],
   "source": [
    "np.random.uniform(-90.000, 90.000, size=50)"
   ]
  },
  {
   "cell_type": "code",
   "execution_count": 8,
   "id": "8b753748",
   "metadata": {},
   "outputs": [],
   "source": [
    "# Import timeit.\n",
    "import timeit"
   ]
  },
  {
   "cell_type": "code",
   "execution_count": 9,
   "id": "d72b909d",
   "metadata": {},
   "outputs": [
    {
     "name": "stdout",
     "output_type": "stream",
     "text": [
      "13.3 µs ± 443 ns per loop (mean ± std. dev. of 7 runs, 100000 loops each)\n"
     ]
    }
   ],
   "source": [
    "%timeit np.random.uniform(-90.000, 90.000, size=1500)"
   ]
  },
  {
   "cell_type": "code",
   "execution_count": 10,
   "id": "afc68f77",
   "metadata": {},
   "outputs": [
    {
     "name": "stdout",
     "output_type": "stream",
     "text": [
      "2.02 ms ± 40.3 µs per loop (mean ± std. dev. of 7 runs, 100 loops each)\n"
     ]
    }
   ],
   "source": [
    "def latitudes(size):\n",
    "    latitudes = []\n",
    "    x = 0\n",
    "    while x < (size):\n",
    "        random_lat = random.randint(-90, 90) + random.random()\n",
    "        latitudes.append(random_lat)\n",
    "        x += 1\n",
    "    return latitudes\n",
    "# Call the function with 1500.\n",
    "%timeit latitudes(1500)"
   ]
  },
  {
   "cell_type": "code",
   "execution_count": null,
   "id": "07048e5d",
   "metadata": {},
   "outputs": [],
   "source": []
  }
 ],
 "metadata": {
  "kernelspec": {
   "display_name": "PythonData",
   "language": "python",
   "name": "pythondata"
  },
  "language_info": {
   "codemirror_mode": {
    "name": "ipython",
    "version": 3
   },
   "file_extension": ".py",
   "mimetype": "text/x-python",
   "name": "python",
   "nbconvert_exporter": "python",
   "pygments_lexer": "ipython3",
   "version": "3.7.11"
  }
 },
 "nbformat": 4,
 "nbformat_minor": 5
}
